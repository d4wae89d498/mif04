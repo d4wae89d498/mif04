{
 "cells": [
  {
   "cell_type": "markdown",
   "metadata": {
    "id": "22ZB5jAhZhBs"
   },
   "source": [
    "# Partie 1"
   ]
  },
  {
   "cell_type": "markdown",
   "metadata": {
    "id": "UWWsSZvRftrj"
   },
   "source": [
    "## 0. Chargement des dépendances"
   ]
  },
  {
   "cell_type": "code",
   "execution_count": null,
   "metadata": {
    "colab": {
     "base_uri": "https://localhost:8080/"
    },
    "id": "mNRGwhg6iB-b",
    "outputId": "f689987b-f914-4646-ec94-56cd86f10196"
   },
   "outputs": [
    {
     "name": "stdout",
     "output_type": "stream",
     "text": [
      "Drive already mounted at /content/drive; to attempt to forcibly remount, call drive.mount(\"/content/drive\", force_remount=True).\n"
     ]
    }
   ],
   "source": [
    "# Montage du drive google pour charger les données\n",
    "from google.colab import drive\n",
    "drive.mount('/content/drive')"
   ]
  },
  {
   "cell_type": "code",
   "execution_count": null,
   "metadata": {
    "id": "m8FauG5NiMzT"
   },
   "outputs": [],
   "source": [
    "# Filtre les erreurs\n",
    "import warnings\n",
    "warnings.filterwarnings('ignore')"
   ]
  },
  {
   "cell_type": "code",
   "execution_count": null,
   "metadata": {
    "id": "pkb_EKleifsG"
   },
   "outputs": [],
   "source": [
    "# Configure l'affichage des tableaux NumPy : affiche jusqu'à 10 000 éléments et supprime la notation scientifique.\n",
    "import numpy as np\n",
    "np.set_printoptions(threshold=10000,suppress=True)"
   ]
  },
  {
   "cell_type": "code",
   "execution_count": null,
   "metadata": {
    "id": "FRrKAOKiwnf_"
   },
   "outputs": [],
   "source": [
    "import time\n",
    "import pickle\n",
    "import pandas as pd\n",
    "import matplotlib.pyplot as plt\n",
    "import seaborn as sns\n",
    "from sklearn.model_selection import train_test_split, KFold, GridSearchCV, cross_val_score\n",
    "from sklearn.tree import DecisionTreeClassifier\n",
    "from sklearn.neighbors import KNeighborsClassifier\n",
    "from sklearn.preprocessing import StandardScaler, MinMaxScaler\n",
    "from sklearn.decomposition import PCA\n",
    "from sklearn.neural_network import MLPClassifier\n",
    "from sklearn.ensemble import RandomForestClassifier, BaggingClassifier, AdaBoostClassifier\n",
    "from sklearn.metrics import accuracy_score, classification_report, confusion_matrix, precision_score, recall_score, make_scorer\n",
    "from sklearn.pipeline import Pipeline\n",
    "from sklearn.feature_selection import SelectFromModel\n",
    "from xgboost import XGBClassifier\n",
    "\n",
    "\n"
   ]
  },
  {
   "cell_type": "markdown",
   "metadata": {
    "id": "bPR2iuNQepZV"
   },
   "source": [
    "## 1. Chargement et préparation des données"
   ]
  },
  {
   "cell_type": "code",
   "execution_count": null,
   "metadata": {
    "colab": {
     "base_uri": "https://localhost:8080/"
    },
    "id": "iw71fJEq1i9B",
    "outputId": "2e20a9a8-7f64-4a70-9153-ebbbc0536440"
   },
   "outputs": [
    {
     "name": "stdout",
     "output_type": "stream",
     "text": [
      "   Seniority  Home  Time   Age  Marital  Records  Job  Expenses  Income  \\\n",
      "0        9.0   1.0  60.0  30.0      0.0      1.0  1.0      73.0   129.0   \n",
      "1       17.0   1.0  60.0  58.0      1.0      1.0  0.0      48.0   131.0   \n",
      "2       10.0   0.0  36.0  46.0      0.0      2.0  1.0      90.0   200.0   \n",
      "3        0.0   1.0  60.0  24.0      1.0      1.0  0.0      63.0   182.0   \n",
      "4        0.0   1.0  36.0  26.0      1.0      1.0  0.0      46.0   107.0   \n",
      "\n",
      "   Assets  Debt  Amount   Price  Status  \n",
      "0     0.0   0.0   800.0   846.0       1  \n",
      "1     0.0   0.0  1000.0  1658.0       1  \n",
      "2  3000.0   0.0  2000.0  2985.0       0  \n",
      "3  2500.0   0.0   900.0  1325.0       1  \n",
      "4     0.0   0.0   310.0   910.0       1  \n",
      "Taille de l'échantillon : (4375, 14)\n",
      "Pourcentage d'exemples positifs : 72.20571428571428 %\n",
      "Pourcentage d'exemples négatifs : 27.794285714285717 %\n",
      "Taille du jeu d'apprentissage : (2187, 13)\n",
      "Taille du jeu de test : (2188, 13)\n"
     ]
    }
   ],
   "source": [
    "# Importation des données avec pandas\n",
    "data = pd.read_csv('drive/MyDrive/credit_scoring.csv', sep=';')\n",
    "\n",
    "# Affichage des premières lignes du dataset pour vérifier son contenu\n",
    "print(data.head())\n",
    "\n",
    "nom_cols = data.columns.values[:-1] # first items without Status\n",
    "\n",
    "# Conversion en numpy array\n",
    "X = data.drop(columns=[\"Status\"]).values # Sélection des colonnes de caractéristique\n",
    "y = data[\"Status\"].values # Sélection de la variable cible\n",
    "\n",
    "# Analyser les propriétés des données\n",
    "print(\"Taille de l'échantillon :\", data.shape) # Taille de l'échantillon\n",
    "\n",
    "# Pourcentage d'exemples positifs et négatifs\n",
    "positive_count = np.sum(y == 1)\n",
    "negative_count = np.sum(y == 0)\n",
    "total_count = len(y)\n",
    "print(\"Pourcentage d'exemples positifs :\", (positive_count / total_count) * 100, \"%\")\n",
    "print(\"Pourcentage d'exemples négatifs :\", (negative_count / total_count) * 100, \"%\")\n",
    "\n",
    "# Séparation des données en jeu d'apprentissage et de test\n",
    "X_train, X_test, y_train, y_test = train_test_split(X, y, test_size=0.5, random_state=1)\n",
    "\n",
    "# Vérification des tailles\n",
    "print(\"Taille du jeu d'apprentissage :\", X_train.shape)\n",
    "print(\"Taille du jeu de test :\", X_test.shape)"
   ]
  },
  {
   "cell_type": "markdown",
   "metadata": {
    "id": "v6isLDxWe4dM"
   },
   "source": [
    "## 2. Apprentissage et évaluation de modèles"
   ]
  },
  {
   "cell_type": "code",
   "execution_count": null,
   "metadata": {
    "id": "WVDr_9nR1xKP"
   },
   "outputs": [],
   "source": [
    "# Les modèles à comparer\n",
    "models = {\n",
    "    \"CART\": DecisionTreeClassifier(random_state=1),\n",
    "    \"KNN\": KNeighborsClassifier(n_neighbors=5),\n",
    "    \"MLP\": MLPClassifier(hidden_layer_sizes=(40, 20), random_state=1, max_iter=1000)\n",
    "}\n",
    "\n",
    "# Entrainnement du modèle\n",
    "for model_name, model in models.items():\n",
    "    model.fit(X_train, y_train)\n",
    "\n"
   ]
  },
  {
   "cell_type": "code",
   "execution_count": null,
   "metadata": {
    "colab": {
     "base_uri": "https://localhost:8080/"
    },
    "id": "69ogqlG48L08",
    "outputId": "02dcc42c-e53f-48f6-f336-0cba6f99dd6f"
   },
   "outputs": [
    {
     "name": "stdout",
     "output_type": "stream",
     "text": [
      "Résultats pour le modèle CART:\n",
      "Matrice de confusion:\n",
      "[[ 325  279]\n",
      " [ 318 1266]]\n",
      "Accuracy : 0.73\n",
      "Précision : 0.82\n",
      "Rappel : 0.80\n",
      "------\n",
      "Résultats pour le modèle KNN:\n",
      "Matrice de confusion:\n",
      "[[ 189  415]\n",
      " [ 187 1397]]\n",
      "Accuracy : 0.72\n",
      "Précision : 0.77\n",
      "Rappel : 0.88\n",
      "------\n",
      "Résultats pour le modèle MLP:\n",
      "Matrice de confusion:\n",
      "[[ 285  319]\n",
      " [ 342 1242]]\n",
      "Accuracy : 0.70\n",
      "Précision : 0.80\n",
      "Rappel : 0.78\n",
      "------\n"
     ]
    }
   ],
   "source": [
    "def evaluate_models(models, X_test, y_test):\n",
    "\n",
    "    results = {}\n",
    "\n",
    "    for model_name, model in models.items():\n",
    "        # Prédictions\n",
    "        y_pred = model.predict(X_test)\n",
    "\n",
    "        results[model_name] = {\n",
    "            \"cm\": confusion_matrix(y_test, y_pred),\n",
    "            \"accuracy\": accuracy_score(y_test, y_pred),\n",
    "            \"precision\": precision_score(y_test, y_pred),\n",
    "            \"recall\": recall_score(y_test, y_pred)\n",
    "        }\n",
    "\n",
    "    return results\n",
    "\n",
    "def show_results(results):\n",
    "    for model_name, metrics in results.items():\n",
    "        print(f\"Résultats pour le modèle {model_name}:\")\n",
    "        print(f\"Matrice de confusion:\\n{metrics['cm']}\")\n",
    "        print(f\"Accuracy : {metrics['accuracy']:.2f}\")\n",
    "        print(f\"Précision : {metrics['precision']:.2f}\")\n",
    "        print(f\"Rappel : {metrics['recall']:.2f}\")\n",
    "        print(f\"------\")\n",
    "\n",
    "# Appel de la fonction pour évaluer et comparer les modèles\n",
    "results = evaluate_models(models, X_test, y_test)\n",
    "\n",
    "show_results(results)"
   ]
  },
  {
   "cell_type": "markdown",
   "metadata": {
    "id": "-TffWV15HpJH"
   },
   "source": [
    "Dans le cas métier du crédit scoring, la mesure la plus importante entre le rappel et la précision est bien la précision, afin d'éviter les faux positifs.\n",
    "\n",
    "Si l'on considère une matrice de confusion dans le cas métier du crédit scoring, elle pourrait se présenter comme suit :\n",
    "```\n",
    "\n",
    "                    | Solvable (Positif)  | Non solvable (Négatif)\n",
    "--------------------|---------------------|-------------------------\n",
    "Prédit Solvable     | Vrais Positifs (VP) | Faux Positifs (FP)\n",
    "Prédit Non Solvable | Faux Négatifs (FN)  | Vrais Négatifs (VN)\n",
    "```\n",
    "\n",
    "* VP : Bon emprunteur identifié comme bon (vrai positif).\n",
    "* FP : Mauvais emprunteur identifié comme bon (faux positif).\n",
    "* FN : Bon emprunteur identifié comme mauvais (faux négatif).\n",
    "* VN : Mauvais emprunteur identifié comme mauvais (vrai négatif).\n",
    "\n",
    "Dans cette optique, nous souhaitons :\n",
    "\n",
    "* Minimiser FP (mauvais emprunteur identifié comme bon).\n",
    "* Maximiser VP (bon emprunteur identifié correctement).\n",
    "\n",
    "et éventuellement;\n",
    "\n",
    "* Minimiser FN (bon emprunteur identifié comme mauvais).\n",
    "\n",
    "Dans notre TP nous nous concentrerons exclusivement sur la **précision**. Une entreprise pourrait utiliser une moyenne harmonique avec un poids plus faible sur le FN selon son business plan.\n"
   ]
  },
  {
   "cell_type": "markdown",
   "metadata": {
    "id": "x62EaNnmfA8u"
   },
   "source": [
    "## 3. Normalisation des variables continues"
   ]
  },
  {
   "cell_type": "code",
   "execution_count": null,
   "metadata": {
    "colab": {
     "base_uri": "https://localhost:8080/"
    },
    "id": "IILtRYu4CkcS",
    "outputId": "23782bd6-2c61-415b-fdbe-5bf93cbc466c"
   },
   "outputs": [
    {
     "name": "stdout",
     "output_type": "stream",
     "text": [
      "Résultats pour le modèle CART_on_scaled:\n",
      "Matrice de confusion:\n",
      "[[ 325  279]\n",
      " [ 315 1269]]\n",
      "Accuracy : 0.73\n",
      "Précision : 0.82\n",
      "Rappel : 0.80\n",
      "------\n",
      "Résultats pour le modèle KNN_on_scaled:\n",
      "Matrice de confusion:\n",
      "[[ 283  321]\n",
      " [ 236 1348]]\n",
      "Accuracy : 0.75\n",
      "Précision : 0.81\n",
      "Rappel : 0.85\n",
      "------\n",
      "Résultats pour le modèle MLP_on_scaled:\n",
      "Matrice de confusion:\n",
      "[[ 314  290]\n",
      " [ 173 1411]]\n",
      "Accuracy : 0.79\n",
      "Précision : 0.83\n",
      "Rappel : 0.89\n",
      "------\n"
     ]
    }
   ],
   "source": [
    "scaler = MinMaxScaler()\n",
    "X_train_scaled = scaler.fit_transform(X_train)\n",
    "X_test_scaled = scaler.transform(X_test)\n",
    "\n",
    "models_on_scaled = {\n",
    "    \"CART_on_scaled\": DecisionTreeClassifier(random_state=1),\n",
    "    \"KNN_on_scaled\": KNeighborsClassifier(n_neighbors=5),\n",
    "    \"MLP_on_scaled\": MLPClassifier(hidden_layer_sizes=(40, 20), random_state=1, max_iter=1000)\n",
    "}\n",
    "\n",
    "# Entrainnement du modèle\n",
    "for model_name, model in models_on_scaled.items():\n",
    "    model.fit(X_train_scaled, y_train)\n",
    "\n",
    "# Comparaison des modèles\n",
    "results_on_normalized = evaluate_models(models_on_scaled, X_test_scaled, y_test)\n",
    "\n",
    "show_results(results_on_normalized)\n",
    "\n",
    "def best_model_by_precision(data):\n",
    "    # Vérifie que le dictionnaire n'est pas vide\n",
    "    if not data:\n",
    "        return None\n",
    "\n",
    "    # Utilise max() pour trouver l'élément avec la meilleure précision\n",
    "    best_key, best_value = max(data.items(), key=lambda item: item[1].get(\"precision\", 0))\n",
    "    best_value[\"name\"] = best_key;\n",
    "    # Retourne l'élément avec la meilleure précision\n",
    "    return best_value\n",
    "\n",
    "best_model = best_model_by_precision(results | results_on_normalized)\n",
    "\n"
   ]
  },
  {
   "cell_type": "code",
   "execution_count": null,
   "metadata": {
    "colab": {
     "base_uri": "https://localhost:8080/"
    },
    "id": "DvddQ8DbFRir",
    "outputId": "fda17338-8b8b-48f0-c22a-73f4985baf11"
   },
   "outputs": [
    {
     "name": "stdout",
     "output_type": "stream",
     "text": [
      "Le meilleur modèle par rapport à la précision est : MLP_on_scaled\n"
     ]
    }
   ],
   "source": [
    "print(f\"Le meilleur modèle par rapport à la précision est : {best_model['name']}\")"
   ]
  },
  {
   "cell_type": "code",
   "execution_count": null,
   "metadata": {
    "id": "ySwmpPQOGywY"
   },
   "outputs": [],
   "source": [
    "if best_model['name'].endswith(\"on_scaled\"):\n",
    "  X_train = X_train_scaled\n",
    "  X_test = X_test_scaled\n"
   ]
  },
  {
   "cell_type": "markdown",
   "metadata": {
    "id": "sPTzOO_VNmMC"
   },
   "source": [
    "Le **meilleurs modèle** à ce stade pour ces données et ce cas métier est donc **MLP sur des données normalisées** pour avoir la meilleurs précision."
   ]
  },
  {
   "cell_type": "markdown",
   "metadata": {
    "id": "OhhDWDX9fHCQ"
   },
   "source": [
    "## 4. Sélection de variables"
   ]
  },
  {
   "cell_type": "code",
   "execution_count": null,
   "metadata": {
    "colab": {
     "base_uri": "https://localhost:8080/",
     "height": 124
    },
    "id": "P9vGuhgWMbov",
    "outputId": "bf09ee8e-8f64-41de-f44f-001ec7cb6081"
   },
   "outputs": [
    {
     "name": "stdout",
     "output_type": "stream",
     "text": [
      "['Seniority' 'Home' 'Time' 'Age' 'Marital' 'Records' 'Job' 'Expenses'\n",
      " 'Income' 'Assets' 'Debt' 'Amount' 'Price']\n",
      "['Income' 'Seniority' 'Price' 'Amount' 'Age' 'Assets' 'Expenses' 'Records'\n",
      " 'Time' 'Job' 'Debt' 'Home' 'Marital']\n"
     ]
    },
    {
     "data": {
      "image/png": "[encoded data removed]",
      "text/plain": [
       "<Figure size 640x480 with 1 Axes>"
      ]
     },
     "metadata": {},
     "output_type": "display_data"
    }
   ],
   "source": [
    "from sklearn.ensemble import RandomForestClassifier\n",
    "\n",
    "#clf = MLPClassifier(hidden_layer_sizes=(40, 20), random_state=1, max_iter=1000)\n",
    "\n",
    "clf = RandomForestClassifier(n_estimators=1000,random_state=1)\n",
    "clf.fit(X_train, y_train)\n",
    "importances=clf.feature_importances_\n",
    "std = np.std([tree.feature_importances_ for tree in clf.estimators_],axis=0)\n",
    "sorted_idx = np.argsort(importances)[::-1]\n",
    "features = nom_cols\n",
    "\n",
    "print(nom_cols)\n",
    "\n",
    "print(features[sorted_idx])\n",
    "\n",
    "\n",
    "padding = np.arange(X_train.size/len(X_train)) + 0.5\n",
    "plt.barh(padding, importances[sorted_idx],xerr=std[sorted_idx], align='center')\n",
    "plt.yticks(padding, features[sorted_idx])\n",
    "plt.xlabel(\"Relative Importance\")\n",
    "plt.title(\"Variable Importance\")\n",
    "plt.show()"
   ]
  },
  {
   "cell_type": "code",
   "execution_count": null,
   "metadata": {
    "colab": {
     "base_uri": "https://localhost:8080/",
     "height": 54
    },
    "id": "-yMx3ReEOyh6",
    "outputId": "4801b18c-fb93-4d57-ee23-1ecfc61599d1"
   },
   "outputs": [
    {
     "data": {
      "image/png": "[encoded data removed]",
      "text/plain": [
       "<Figure size 640x480 with 1 Axes>"
      ]
     },
     "metadata": {},
     "output_type": "display_data"
    }
   ],
   "source": [
    "\n",
    "\n",
    "best_model_instance = MLPClassifier(hidden_layer_sizes=(40, 20), random_state=1, max_iter=1000)\n",
    "scores=np.zeros(X_train.shape[1]+1)\n",
    "for f in np.arange(0, X_train.shape[1]+1):\n",
    "  X1_f = X_train[:,sorted_idx[:f+1]]\n",
    "  X2_f = X_test [:,sorted_idx[:f+1]]\n",
    "  best_model_instance.fit(X1_f,y_train)\n",
    "  y_pred=best_model_instance.predict(X2_f)\n",
    "  scores[f]=np.round(precision_score(y_test,y_pred),3)\n",
    "plt.plot(scores)\n",
    "plt.xlabel(\"Nombre de Variables\")\n",
    "plt.ylabel(\"Precision\")\n",
    "plt.title(\"Evolution de la precision en fonction des variables\")\n",
    "plt.show()"
   ]
  },
  {
   "cell_type": "code",
   "execution_count": null,
   "metadata": {
    "colab": {
     "base_uri": "https://localhost:8080/",
     "height": 54
    },
    "id": "GL4Pq_h_UeeB",
    "outputId": "4e8e3ff6-bd1b-4c87-ffb6-9262d68a2b85"
   },
   "outputs": [
    {
     "data": {
      "image/png": "[encoded data removed]",
      "text/plain": [
       "<Figure size 640x480 with 1 Axes>"
      ]
     },
     "metadata": {},
     "output_type": "display_data"
    }
   ],
   "source": [
    "\n",
    "best_model_instance = MLPClassifier(hidden_layer_sizes=(40, 20), random_state=1, max_iter=1000)\n",
    "scores=np.zeros(X_train.shape[1]+1)\n",
    "for f in np.arange(0, X_train.shape[1]+1):\n",
    "  X1_f = X_train[:,sorted_idx[:f+1]]\n",
    "  X2_f = X_test [:,sorted_idx[:f+1]]\n",
    "  best_model_instance.fit(X1_f,y_train)\n",
    "  y_pred=best_model_instance.predict(X2_f)\n",
    "  scores[f]=np.round(accuracy_score(y_test,y_pred),3)\n",
    "plt.plot(scores)\n",
    "plt.xlabel(\"Nombre de Variables\")\n",
    "plt.ylabel(\"Accuracy\")\n",
    "plt.title(\"Evolution de l'accuracy en fonction des variables\")\n",
    "plt.show()"
   ]
  },
  {
   "cell_type": "markdown",
   "metadata": {
    "id": "xxxlgcf0FWy3"
   },
   "source": [
    "On remarque un pic à 7 variables. Les calculs au delà des 7 premières varibles sont plus couteux pour peu voir pas de gains en precision et en accuracy."
   ]
  },
  {
   "cell_type": "code",
   "execution_count": null,
   "metadata": {
    "id": "lfp63QEYl4oX"
   },
   "outputs": [],
   "source": [
    "X_train_selected = X_train[:,sorted_idx[:7]]\n",
    "X_test_selected = X_test[:,sorted_idx[:7]]"
   ]
  },
  {
   "cell_type": "markdown",
   "metadata": {
    "id": "_CJDlyk-fLRv"
   },
   "source": [
    "## 5. Paramétrage du meilleur algorithme.\n",
    "\n"
   ]
  },
  {
   "cell_type": "code",
   "execution_count": null,
   "metadata": {
    "colab": {
     "base_uri": "https://localhost:8080/",
     "height": 136
    },
    "id": "1AVY3WTJLcfg",
    "outputId": "7f693f68-474a-47ee-a9fd-f6b38323bf26"
   },
   "outputs": [
    {
     "data": {
      "text/html": [
       "<style>#sk-container-id-3 {\n",
       "  /* Definition of color scheme common for light and dark mode */\n",
       "  --sklearn-color-text: black;\n",
       "  --sklearn-color-line: gray;\n",
       "  /* Definition of color scheme for unfitted estimators */\n",
       "  --sklearn-color-unfitted-level-0: #fff5e6;\n",
       "  --sklearn-color-unfitted-level-1: #f6e4d2;\n",
       "  --sklearn-color-unfitted-level-2: #ffe0b3;\n",
       "  --sklearn-color-unfitted-level-3: chocolate;\n",
       "  /* Definition of color scheme for fitted estimators */\n",
       "  --sklearn-color-fitted-level-0: #f0f8ff;\n",
       "  --sklearn-color-fitted-level-1: #d4ebff;\n",
       "  --sklearn-color-fitted-level-2: #b3dbfd;\n",
       "  --sklearn-color-fitted-level-3: cornflowerblue;\n",
       "\n",
       "  /* Specific color for light theme */\n",
       "  --sklearn-color-text-on-default-background: var(--sg-text-color, var(--theme-code-foreground, var(--jp-content-font-color1, black)));\n",
       "  --sklearn-color-background: var(--sg-background-color, var(--theme-background, var(--jp-layout-color0, white)));\n",
       "  --sklearn-color-border-box: var(--sg-text-color, var(--theme-code-foreground, var(--jp-content-font-color1, black)));\n",
       "  --sklearn-color-icon: #696969;\n",
       "\n",
       "  @media (prefers-color-scheme: dark) {\n",
       "    /* Redefinition of color scheme for dark theme */\n",
       "    --sklearn-color-text-on-default-background: var(--sg-text-color, var(--theme-code-foreground, var(--jp-content-font-color1, white)));\n",
       "    --sklearn-color-background: var(--sg-background-color, var(--theme-background, var(--jp-layout-color0, #111)));\n",
       "    --sklearn-color-border-box: var(--sg-text-color, var(--theme-code-foreground, var(--jp-content-font-color1, white)));\n",
       "    --sklearn-color-icon: #878787;\n",
       "  }\n",
       "}\n",
       "\n",
       "#sk-container-id-3 {\n",
       "  color: var(--sklearn-color-text);\n",
       "}\n",
       "\n",
       "#sk-container-id-3 pre {\n",
       "  padding: 0;\n",
       "}\n",
       "\n",
       "#sk-container-id-3 input.sk-hidden--visually {\n",
       "  border: 0;\n",
       "  clip: rect(1px 1px 1px 1px);\n",
       "  clip: rect(1px, 1px, 1px, 1px);\n",
       "  height: 1px;\n",
       "  margin: -1px;\n",
       "  overflow: hidden;\n",
       "  padding: 0;\n",
       "  position: absolute;\n",
       "  width: 1px;\n",
       "}\n",
       "\n",
       "#sk-container-id-3 div.sk-dashed-wrapped {\n",
       "  border: 1px dashed var(--sklearn-color-line);\n",
       "  margin: 0 0.4em 0.5em 0.4em;\n",
       "  box-sizing: border-box;\n",
       "  padding-bottom: 0.4em;\n",
       "  background-color: var(--sklearn-color-background);\n",
       "}\n",
       "\n",
       "#sk-container-id-3 div.sk-container {\n",
       "  /* jupyter's `normalize.less` sets `[hidden] { display: none; }`\n",
       "     but bootstrap.min.css set `[hidden] { display: none !important; }`\n",
       "     so we also need the `!important` here to be able to override the\n",
       "     default hidden behavior on the sphinx rendered scikit-learn.org.\n",
       "     See: https://github.com/scikit-learn/scikit-learn/issues/21755 */\n",
       "  display: inline-block !important;\n",
       "  position: relative;\n",
       "}\n",
       "\n",
       "#sk-container-id-3 div.sk-text-repr-fallback {\n",
       "  display: none;\n",
       "}\n",
       "\n",
       "div.sk-parallel-item,\n",
       "div.sk-serial,\n",
       "div.sk-item {\n",
       "  /* draw centered vertical line to link estimators */\n",
       "  background-image: linear-gradient(var(--sklearn-color-text-on-default-background), var(--sklearn-color-text-on-default-background));\n",
       "  background-size: 2px 100%;\n",
       "  background-repeat: no-repeat;\n",
       "  background-position: center center;\n",
       "}\n",
       "\n",
       "/* Parallel-specific style estimator block */\n",
       "\n",
       "#sk-container-id-3 div.sk-parallel-item::after {\n",
       "  content: \"\";\n",
       "  width: 100%;\n",
       "  border-bottom: 2px solid var(--sklearn-color-text-on-default-background);\n",
       "  flex-grow: 1;\n",
       "}\n",
       "\n",
       "#sk-container-id-3 div.sk-parallel {\n",
       "  display: flex;\n",
       "  align-items: stretch;\n",
       "  justify-content: center;\n",
       "  background-color: var(--sklearn-color-background);\n",
       "  position: relative;\n",
       "}\n",
       "\n",
       "#sk-container-id-3 div.sk-parallel-item {\n",
       "  display: flex;\n",
       "  flex-direction: column;\n",
       "}\n",
       "\n",
       "#sk-container-id-3 div.sk-parallel-item:first-child::after {\n",
       "  align-self: flex-end;\n",
       "  width: 50%;\n",
       "}\n",
       "\n",
       "#sk-container-id-3 div.sk-parallel-item:last-child::after {\n",
       "  align-self: flex-start;\n",
       "  width: 50%;\n",
       "}\n",
       "\n",
       "#sk-container-id-3 div.sk-parallel-item:only-child::after {\n",
       "  width: 0;\n",
       "}\n",
       "\n",
       "/* Serial-specific style estimator block */\n",
       "\n",
       "#sk-container-id-3 div.sk-serial {\n",
       "  display: flex;\n",
       "  flex-direction: column;\n",
       "  align-items: center;\n",
       "  background-color: var(--sklearn-color-background);\n",
       "  padding-right: 1em;\n",
       "  padding-left: 1em;\n",
       "}\n",
       "\n",
       "\n",
       "/* Toggleable style: style used for estimator/Pipeline/ColumnTransformer box that is\n",
       "clickable and can be expanded/collapsed.\n",
       "- Pipeline and ColumnTransformer use this feature and define the default style\n",
       "- Estimators will overwrite some part of the style using the `sk-estimator` class\n",
       "*/\n",
       "\n",
       "/* Pipeline and ColumnTransformer style (default) */\n",
       "\n",
       "#sk-container-id-3 div.sk-toggleable {\n",
       "  /* Default theme specific background. It is overwritten whether we have a\n",
       "  specific estimator or a Pipeline/ColumnTransformer */\n",
       "  background-color: var(--sklearn-color-background);\n",
       "}\n",
       "\n",
       "/* Toggleable label */\n",
       "#sk-container-id-3 label.sk-toggleable__label {\n",
       "  cursor: pointer;\n",
       "  display: block;\n",
       "  width: 100%;\n",
       "  margin-bottom: 0;\n",
       "  padding: 0.5em;\n",
       "  box-sizing: border-box;\n",
       "  text-align: center;\n",
       "}\n",
       "\n",
       "#sk-container-id-3 label.sk-toggleable__label-arrow:before {\n",
       "  /* Arrow on the left of the label */\n",
       "  content: \"▸\";\n",
       "  float: left;\n",
       "  margin-right: 0.25em;\n",
       "  color: var(--sklearn-color-icon);\n",
       "}\n",
       "\n",
       "#sk-container-id-3 label.sk-toggleable__label-arrow:hover:before {\n",
       "  color: var(--sklearn-color-text);\n",
       "}\n",
       "\n",
       "/* Toggleable content - dropdown */\n",
       "\n",
       "#sk-container-id-3 div.sk-toggleable__content {\n",
       "  max-height: 0;\n",
       "  max-width: 0;\n",
       "  overflow: hidden;\n",
       "  text-align: left;\n",
       "  /* unfitted */\n",
       "  background-color: var(--sklearn-color-unfitted-level-0);\n",
       "}\n",
       "\n",
       "#sk-container-id-3 div.sk-toggleable__content.fitted {\n",
       "  /* fitted */\n",
       "  background-color: var(--sklearn-color-fitted-level-0);\n",
       "}\n",
       "\n",
       "#sk-container-id-3 div.sk-toggleable__content pre {\n",
       "  margin: 0.2em;\n",
       "  border-radius: 0.25em;\n",
       "  color: var(--sklearn-color-text);\n",
       "  /* unfitted */\n",
       "  background-color: var(--sklearn-color-unfitted-level-0);\n",
       "}\n",
       "\n",
       "#sk-container-id-3 div.sk-toggleable__content.fitted pre {\n",
       "  /* unfitted */\n",
       "  background-color: var(--sklearn-color-fitted-level-0);\n",
       "}\n",
       "\n",
       "#sk-container-id-3 input.sk-toggleable__control:checked~div.sk-toggleable__content {\n",
       "  /* Expand drop-down */\n",
       "  max-height: 200px;\n",
       "  max-width: 100%;\n",
       "  overflow: auto;\n",
       "}\n",
       "\n",
       "#sk-container-id-3 input.sk-toggleable__control:checked~label.sk-toggleable__label-arrow:before {\n",
       "  content: \"▾\";\n",
       "}\n",
       "\n",
       "/* Pipeline/ColumnTransformer-specific style */\n",
       "\n",
       "#sk-container-id-3 div.sk-label input.sk-toggleable__control:checked~label.sk-toggleable__label {\n",
       "  color: var(--sklearn-color-text);\n",
       "  background-color: var(--sklearn-color-unfitted-level-2);\n",
       "}\n",
       "\n",
       "#sk-container-id-3 div.sk-label.fitted input.sk-toggleable__control:checked~label.sk-toggleable__label {\n",
       "  background-color: var(--sklearn-color-fitted-level-2);\n",
       "}\n",
       "\n",
       "/* Estimator-specific style */\n",
       "\n",
       "/* Colorize estimator box */\n",
       "#sk-container-id-3 div.sk-estimator input.sk-toggleable__control:checked~label.sk-toggleable__label {\n",
       "  /* unfitted */\n",
       "  background-color: var(--sklearn-color-unfitted-level-2);\n",
       "}\n",
       "\n",
       "#sk-container-id-3 div.sk-estimator.fitted input.sk-toggleable__control:checked~label.sk-toggleable__label {\n",
       "  /* fitted */\n",
       "  background-color: var(--sklearn-color-fitted-level-2);\n",
       "}\n",
       "\n",
       "#sk-container-id-3 div.sk-label label.sk-toggleable__label,\n",
       "#sk-container-id-3 div.sk-label label {\n",
       "  /* The background is the default theme color */\n",
       "  color: var(--sklearn-color-text-on-default-background);\n",
       "}\n",
       "\n",
       "/* On hover, darken the color of the background */\n",
       "#sk-container-id-3 div.sk-label:hover label.sk-toggleable__label {\n",
       "  color: var(--sklearn-color-text);\n",
       "  background-color: var(--sklearn-color-unfitted-level-2);\n",
       "}\n",
       "\n",
       "/* Label box, darken color on hover, fitted */\n",
       "#sk-container-id-3 div.sk-label.fitted:hover label.sk-toggleable__label.fitted {\n",
       "  color: var(--sklearn-color-text);\n",
       "  background-color: var(--sklearn-color-fitted-level-2);\n",
       "}\n",
       "\n",
       "/* Estimator label */\n",
       "\n",
       "#sk-container-id-3 div.sk-label label {\n",
       "  font-family: monospace;\n",
       "  font-weight: bold;\n",
       "  display: inline-block;\n",
       "  line-height: 1.2em;\n",
       "}\n",
       "\n",
       "#sk-container-id-3 div.sk-label-container {\n",
       "  text-align: center;\n",
       "}\n",
       "\n",
       "/* Estimator-specific */\n",
       "#sk-container-id-3 div.sk-estimator {\n",
       "  font-family: monospace;\n",
       "  border: 1px dotted var(--sklearn-color-border-box);\n",
       "  border-radius: 0.25em;\n",
       "  box-sizing: border-box;\n",
       "  margin-bottom: 0.5em;\n",
       "  /* unfitted */\n",
       "  background-color: var(--sklearn-color-unfitted-level-0);\n",
       "}\n",
       "\n",
       "#sk-container-id-3 div.sk-estimator.fitted {\n",
       "  /* fitted */\n",
       "  background-color: var(--sklearn-color-fitted-level-0);\n",
       "}\n",
       "\n",
       "/* on hover */\n",
       "#sk-container-id-3 div.sk-estimator:hover {\n",
       "  /* unfitted */\n",
       "  background-color: var(--sklearn-color-unfitted-level-2);\n",
       "}\n",
       "\n",
       "#sk-container-id-3 div.sk-estimator.fitted:hover {\n",
       "  /* fitted */\n",
       "  background-color: var(--sklearn-color-fitted-level-2);\n",
       "}\n",
       "\n",
       "/* Specification for estimator info (e.g. \"i\" and \"?\") */\n",
       "\n",
       "/* Common style for \"i\" and \"?\" */\n",
       "\n",
       ".sk-estimator-doc-link,\n",
       "a:link.sk-estimator-doc-link,\n",
       "a:visited.sk-estimator-doc-link {\n",
       "  float: right;\n",
       "  font-size: smaller;\n",
       "  line-height: 1em;\n",
       "  font-family: monospace;\n",
       "  background-color: var(--sklearn-color-background);\n",
       "  border-radius: 1em;\n",
       "  height: 1em;\n",
       "  width: 1em;\n",
       "  text-decoration: none !important;\n",
       "  margin-left: 1ex;\n",
       "  /* unfitted */\n",
       "  border: var(--sklearn-color-unfitted-level-1) 1pt solid;\n",
       "  color: var(--sklearn-color-unfitted-level-1);\n",
       "}\n",
       "\n",
       ".sk-estimator-doc-link.fitted,\n",
       "a:link.sk-estimator-doc-link.fitted,\n",
       "a:visited.sk-estimator-doc-link.fitted {\n",
       "  /* fitted */\n",
       "  border: var(--sklearn-color-fitted-level-1) 1pt solid;\n",
       "  color: var(--sklearn-color-fitted-level-1);\n",
       "}\n",
       "\n",
       "/* On hover */\n",
       "div.sk-estimator:hover .sk-estimator-doc-link:hover,\n",
       ".sk-estimator-doc-link:hover,\n",
       "div.sk-label-container:hover .sk-estimator-doc-link:hover,\n",
       ".sk-estimator-doc-link:hover {\n",
       "  /* unfitted */\n",
       "  background-color: var(--sklearn-color-unfitted-level-3);\n",
       "  color: var(--sklearn-color-background);\n",
       "  text-decoration: none;\n",
       "}\n",
       "\n",
       "div.sk-estimator.fitted:hover .sk-estimator-doc-link.fitted:hover,\n",
       ".sk-estimator-doc-link.fitted:hover,\n",
       "div.sk-label-container:hover .sk-estimator-doc-link.fitted:hover,\n",
       ".sk-estimator-doc-link.fitted:hover {\n",
       "  /* fitted */\n",
       "  background-color: var(--sklearn-color-fitted-level-3);\n",
       "  color: var(--sklearn-color-background);\n",
       "  text-decoration: none;\n",
       "}\n",
       "\n",
       "/* Span, style for the box shown on hovering the info icon */\n",
       ".sk-estimator-doc-link span {\n",
       "  display: none;\n",
       "  z-index: 9999;\n",
       "  position: relative;\n",
       "  font-weight: normal;\n",
       "  right: .2ex;\n",
       "  padding: .5ex;\n",
       "  margin: .5ex;\n",
       "  width: min-content;\n",
       "  min-width: 20ex;\n",
       "  max-width: 50ex;\n",
       "  color: var(--sklearn-color-text);\n",
       "  box-shadow: 2pt 2pt 4pt #999;\n",
       "  /* unfitted */\n",
       "  background: var(--sklearn-color-unfitted-level-0);\n",
       "  border: .5pt solid var(--sklearn-color-unfitted-level-3);\n",
       "}\n",
       "\n",
       ".sk-estimator-doc-link.fitted span {\n",
       "  /* fitted */\n",
       "  background: var(--sklearn-color-fitted-level-0);\n",
       "  border: var(--sklearn-color-fitted-level-3);\n",
       "}\n",
       "\n",
       ".sk-estimator-doc-link:hover span {\n",
       "  display: block;\n",
       "}\n",
       "\n",
       "/* \"?\"-specific style due to the `<a>` HTML tag */\n",
       "\n",
       "#sk-container-id-3 a.estimator_doc_link {\n",
       "  float: right;\n",
       "  font-size: 1rem;\n",
       "  line-height: 1em;\n",
       "  font-family: monospace;\n",
       "  background-color: var(--sklearn-color-background);\n",
       "  border-radius: 1rem;\n",
       "  height: 1rem;\n",
       "  width: 1rem;\n",
       "  text-decoration: none;\n",
       "  /* unfitted */\n",
       "  color: var(--sklearn-color-unfitted-level-1);\n",
       "  border: var(--sklearn-color-unfitted-level-1) 1pt solid;\n",
       "}\n",
       "\n",
       "#sk-container-id-3 a.estimator_doc_link.fitted {\n",
       "  /* fitted */\n",
       "  border: var(--sklearn-color-fitted-level-1) 1pt solid;\n",
       "  color: var(--sklearn-color-fitted-level-1);\n",
       "}\n",
       "\n",
       "/* On hover */\n",
       "#sk-container-id-3 a.estimator_doc_link:hover {\n",
       "  /* unfitted */\n",
       "  background-color: var(--sklearn-color-unfitted-level-3);\n",
       "  color: var(--sklearn-color-background);\n",
       "  text-decoration: none;\n",
       "}\n",
       "\n",
       "#sk-container-id-3 a.estimator_doc_link.fitted:hover {\n",
       "  /* fitted */\n",
       "  background-color: var(--sklearn-color-fitted-level-3);\n",
       "}\n",
       "</style><div id=\"sk-container-id-3\" class=\"sk-top-container\"><div class=\"sk-text-repr-fallback\"><pre>GridSearchCV(cv=5, estimator=MLPClassifier(max_iter=1000, random_state=1),\n",
       "             n_jobs=-1,\n",
       "             param_grid={&#x27;activation&#x27;: [&#x27;relu&#x27;, &#x27;tanh&#x27;],\n",
       "                         &#x27;alpha&#x27;: [0.0001, 0.001, 0.01],\n",
       "                         &#x27;hidden_layer_sizes&#x27;: [(20, 10), (10, 20)],\n",
       "                         &#x27;learning_rate&#x27;: [&#x27;constant&#x27;, &#x27;adaptive&#x27;],\n",
       "                         &#x27;solver&#x27;: [&#x27;adam&#x27;, &#x27;sgd&#x27;]},\n",
       "             scoring=make_scorer(custom_score, response_method=&#x27;predict&#x27;))</pre><b>In a Jupyter environment, please rerun this cell to show the HTML representation or trust the notebook. <br />On GitHub, the HTML representation is unable to render, please try loading this page with nbviewer.org.</b></div><div class=\"sk-container\" hidden><div class=\"sk-item sk-dashed-wrapped\"><div class=\"sk-label-container\"><div class=\"sk-label fitted sk-toggleable\"><input class=\"sk-toggleable__control sk-hidden--visually\" id=\"sk-estimator-id-7\" type=\"checkbox\" ><label for=\"sk-estimator-id-7\" class=\"sk-toggleable__label fitted sk-toggleable__label-arrow fitted\">&nbsp;&nbsp;GridSearchCV<a class=\"sk-estimator-doc-link fitted\" rel=\"noreferrer\" target=\"_blank\" href=\"https://scikit-learn.org/1.5/modules/generated/sklearn.model_selection.GridSearchCV.html\">?<span>Documentation for GridSearchCV</span></a><span class=\"sk-estimator-doc-link fitted\">i<span>Fitted</span></span></label><div class=\"sk-toggleable__content fitted\"><pre>GridSearchCV(cv=5, estimator=MLPClassifier(max_iter=1000, random_state=1),\n",
       "             n_jobs=-1,\n",
       "             param_grid={&#x27;activation&#x27;: [&#x27;relu&#x27;, &#x27;tanh&#x27;],\n",
       "                         &#x27;alpha&#x27;: [0.0001, 0.001, 0.01],\n",
       "                         &#x27;hidden_layer_sizes&#x27;: [(20, 10), (10, 20)],\n",
       "                         &#x27;learning_rate&#x27;: [&#x27;constant&#x27;, &#x27;adaptive&#x27;],\n",
       "                         &#x27;solver&#x27;: [&#x27;adam&#x27;, &#x27;sgd&#x27;]},\n",
       "             scoring=make_scorer(custom_score, response_method=&#x27;predict&#x27;))</pre></div> </div></div><div class=\"sk-parallel\"><div class=\"sk-parallel-item\"><div class=\"sk-item\"><div class=\"sk-label-container\"><div class=\"sk-label fitted sk-toggleable\"><input class=\"sk-toggleable__control sk-hidden--visually\" id=\"sk-estimator-id-8\" type=\"checkbox\" ><label for=\"sk-estimator-id-8\" class=\"sk-toggleable__label fitted sk-toggleable__label-arrow fitted\">best_estimator_: MLPClassifier</label><div class=\"sk-toggleable__content fitted\"><pre>MLPClassifier(alpha=0.001, hidden_layer_sizes=(10, 20), max_iter=1000,\n",
       "              random_state=1)</pre></div> </div></div><div class=\"sk-serial\"><div class=\"sk-item\"><div class=\"sk-estimator fitted sk-toggleable\"><input class=\"sk-toggleable__control sk-hidden--visually\" id=\"sk-estimator-id-9\" type=\"checkbox\" ><label for=\"sk-estimator-id-9\" class=\"sk-toggleable__label fitted sk-toggleable__label-arrow fitted\">&nbsp;MLPClassifier<a class=\"sk-estimator-doc-link fitted\" rel=\"noreferrer\" target=\"_blank\" href=\"https://scikit-learn.org/1.5/modules/generated/sklearn.neural_network.MLPClassifier.html\">?<span>Documentation for MLPClassifier</span></a></label><div class=\"sk-toggleable__content fitted\"><pre>MLPClassifier(alpha=0.001, hidden_layer_sizes=(10, 20), max_iter=1000,\n",
       "              random_state=1)</pre></div> </div></div></div></div></div></div></div></div></div>"
      ],
      "text/plain": [
       "GridSearchCV(cv=5, estimator=MLPClassifier(max_iter=1000, random_state=1),\n",
       "             n_jobs=-1,\n",
       "             param_grid={'activation': ['relu', 'tanh'],\n",
       "                         'alpha': [0.0001, 0.001, 0.01],\n",
       "                         'hidden_layer_sizes': [(20, 10), (10, 20)],\n",
       "                         'learning_rate': ['constant', 'adaptive'],\n",
       "                         'solver': ['adam', 'sgd']},\n",
       "             scoring=make_scorer(custom_score, response_method='predict'))"
      ]
     },
     "execution_count": 86,
     "metadata": {},
     "output_type": "execute_result"
    }
   ],
   "source": [
    "# Fonction de score personnalisé\n",
    "def custom_score(y_true, y_pred):\n",
    "    accuracy = accuracy_score(y_true, y_pred)\n",
    "    precision = precision_score(y_true, y_pred, average='weighted')  # Pour multi-classes\n",
    "    return (accuracy + precision) / 2\n",
    "\n",
    "scorer = make_scorer(custom_score, greater_is_better=True)\n",
    "\n",
    "param_grid = {\n",
    "    'hidden_layer_sizes': [(20, 10), (10, 20)],  # Test de différentes architectures de couches\n",
    "    'activation': ['relu', 'tanh'],  # Fonction d'activation\n",
    "    'solver': ['adam', 'sgd'],  # Algorithmes d'optimisation\n",
    "    'alpha': [0.0001, 0.001, 0.01],  # Regularisation\n",
    "    'learning_rate': ['constant', 'adaptive']  # Taux d'apprentissage\n",
    "}\n",
    "\n",
    "# GridSearchCV pour optimiser les paramètres\n",
    "grid_search = GridSearchCV(MLPClassifier(random_state=1, max_iter=1000), param_grid, scoring=scorer, cv=5, n_jobs=-1)\n",
    "grid_search.fit(X_train_selected, y_train)\n",
    "\n",
    "\n"
   ]
  },
  {
   "cell_type": "code",
   "execution_count": null,
   "metadata": {
    "colab": {
     "base_uri": "https://localhost:8080/"
    },
    "id": "Elp1rkwOzwpi",
    "outputId": "f41f5ae2-d6c2-4689-ec5f-36e2ad484c16"
   },
   "outputs": [
    {
     "name": "stdout",
     "output_type": "stream",
     "text": [
      "{'activation': 'relu', 'alpha': 0.001, 'hidden_layer_sizes': (10, 20), 'learning_rate': 'constant', 'solver': 'adam'}\n"
     ]
    }
   ],
   "source": [
    "print(grid_search.best_params_)\n"
   ]
  },
  {
   "cell_type": "markdown",
   "metadata": {
    "id": "OvF3BDxsfcsq"
   },
   "source": [
    "## 6. Création d’un pipeline"
   ]
  },
  {
   "cell_type": "code",
   "execution_count": null,
   "metadata": {
    "colab": {
     "base_uri": "https://localhost:8080/"
    },
    "id": "M-OU99lZdBQC",
    "outputId": "c224b9a5-d59c-4742-de4b-a461a6e3b98a"
   },
   "outputs": [
    {
     "name": "stdout",
     "output_type": "stream",
     "text": [
      "MLPClassifier(alpha=0.001, hidden_layer_sizes=(10, 20), max_iter=1000,\n",
      "              random_state=1)\n"
     ]
    }
   ],
   "source": [
    "# Créer le pipeline\n",
    "pipeline = Pipeline([\n",
    "    ('scaler', MinMaxScaler()),  # Mise à l'échelle des données\n",
    "    ('mlp', grid_search.best_estimator_)  # Classificateur MLP\n",
    "])\n",
    "\n",
    "print (grid_search.best_estimator_)\n",
    "\n",
    "pipeline.fit(X_train_selected, y_train)\n",
    "\n",
    "# Sauvegarder le pipeline dans un pickle\n",
    "with open('mlp_pipeline.pkl', 'wb') as f:\n",
    "    pickle.dump(pipeline, f)\n"
   ]
  },
  {
   "cell_type": "markdown",
   "metadata": {
    "id": "moe4M3uv2KDJ"
   },
   "source": [
    "Test du pickle"
   ]
  },
  {
   "cell_type": "code",
   "execution_count": null,
   "metadata": {
    "colab": {
     "base_uri": "https://localhost:8080/"
    },
    "id": "lZzRZ2Wu2HyO",
    "outputId": "9bdf8901-3c02-4b74-a7ea-5d2404861e1a"
   },
   "outputs": [
    {
     "name": "stdout",
     "output_type": "stream",
     "text": [
      "Final Custom Score on test set: 0.769\n",
      "Matrice de confusion :\n",
      " [[ 239  365]\n",
      " [ 123 1461]]\n"
     ]
    }
   ],
   "source": [
    "# Chargement du pickle\n",
    "with open('mlp_pipeline.pkl', 'rb') as f:\n",
    "    loaded_pipeline = pickle.load(f)\n",
    "\n",
    "# Faire les prédictions sur l'ensemble de test\n",
    "y_pred = loaded_pipeline.predict(X_test_selected)\n",
    "\n",
    "# Calculer le score personnalisé sur l'ensemble de test\n",
    "final_score = custom_score(y_test, y_pred)\n",
    "print(f\"Final Custom Score on test set: {final_score:.3f}\")\n",
    "\n",
    "# Afficher la matrice de confusion\n",
    "print(\"Matrice de confusion :\\n\", confusion_matrix(y_test, y_pred))"
   ]
  },
  {
   "cell_type": "markdown",
   "metadata": {
    "id": "hc-7e1TtfmEQ"
   },
   "source": [
    "## 7. Comparaison de plusieurs algorithmes d’apprentissage"
   ]
  },
  {
   "cell_type": "code",
   "execution_count": null,
   "metadata": {
    "colab": {
     "base_uri": "https://localhost:8080/"
    },
    "id": "yFyfhy9CRBDc",
    "outputId": "50231afe-33f1-4cda-ff49-79949c6e6b74"
   },
   "outputs": [
    {
     "name": "stdout",
     "output_type": "stream",
     "text": [
      "Training CART...\n",
      "Custom Score for CART: 0.735\n",
      "Best parameters chosen for CART: {'classifier__max_depth': 5}\n",
      "Training ID3...\n",
      "Custom Score for ID3: 0.719\n",
      "Best parameters chosen for ID3: {'classifier__max_depth': 5}\n",
      "Training DecisionStump...\n",
      "Custom Score for DecisionStump: 0.707\n",
      "Best parameters chosen for DecisionStump: {'classifier__max_depth': 2}\n",
      "Training KNN...\n",
      "Custom Score for KNN: 0.708\n",
      "Best parameters chosen for KNN: {'classifier__n_neighbors': 7}\n",
      "Training Bagging...\n",
      "Custom Score for Bagging: 0.736\n",
      "Best parameters chosen for Bagging: {'classifier__n_estimators': 100}\n",
      "Training AdaBoost...\n",
      "Custom Score for AdaBoost: 0.745\n",
      "Best parameters chosen for AdaBoost: {'classifier__n_estimators': 50}\n",
      "Training RandomForest...\n",
      "Custom Score for RandomForest: 0.733\n",
      "Best parameters chosen for RandomForest: {'classifier__n_estimators': 200}\n",
      "Training XGBoost...\n",
      "Custom Score for XGBoost: 0.729\n",
      "Best parameters chosen for XGBoost: {'classifier__n_estimators': 100}\n",
      "Training MLP...\n",
      "Custom Score for MLP: 0.758\n",
      "Best parameters chosen for MLP: {'classifier__activation': 'tanh', 'classifier__alpha': 0.001, 'classifier__hidden_layer_sizes': (20, 10), 'classifier__learning_rate': 'constant', 'classifier__solver': 'adam'}\n",
      "           Model                                        Best Params  \\\n",
      "0           CART                       {'classifier__max_depth': 5}   \n",
      "1            ID3                       {'classifier__max_depth': 5}   \n",
      "2  DecisionStump                       {'classifier__max_depth': 2}   \n",
      "3            KNN                     {'classifier__n_neighbors': 7}   \n",
      "4        Bagging                  {'classifier__n_estimators': 100}   \n",
      "5       AdaBoost                   {'classifier__n_estimators': 50}   \n",
      "6   RandomForest                  {'classifier__n_estimators': 200}   \n",
      "7        XGBoost                  {'classifier__n_estimators': 100}   \n",
      "8            MLP  {'classifier__activation': 'tanh', 'classifier...   \n",
      "\n",
      "   Mean Custom Score  Std Custom Score  Execution Time (s)  \n",
      "0           0.734680          0.034024            0.379305  \n",
      "1           0.719399          0.046462            0.344775  \n",
      "2           0.706664          0.026806            0.152619  \n",
      "3           0.708436          0.023538            0.628088  \n",
      "4           0.735741          0.036155           37.010187  \n",
      "5           0.745364          0.037110           11.404599  \n",
      "6           0.733460          0.039257           23.298941  \n",
      "7           0.729163          0.037441            4.449581  \n",
      "8           0.758002          0.036641         1414.560729  \n",
      "\n",
      "Best model: MLP\n",
      "Custom Score on test set: 0.770\n",
      "Best model saved as 'best_pipeline.pkl'\n"
     ]
    }
   ],
   "source": [
    "# Custom score function\n",
    "def custom_score(y_true, y_pred):\n",
    "    accuracy = accuracy_score(y_true, y_pred)\n",
    "    precision = precision_score(y_true, y_pred, average='weighted')  # For multi-class\n",
    "    return (accuracy + precision) / 2\n",
    "\n",
    "# Dictionnaire d'algorithmes\n",
    "clfs = {\n",
    "    'CART': DecisionTreeClassifier(random_state=1),\n",
    "    'ID3': DecisionTreeClassifier(criterion='entropy', random_state=1),\n",
    "    'DecisionStump': DecisionTreeClassifier(max_depth=1, random_state=1),\n",
    "    'KNN': KNeighborsClassifier(n_neighbors=5),\n",
    "    'Bagging': BaggingClassifier(random_state=1),\n",
    "    'AdaBoost': AdaBoostClassifier(random_state=1),\n",
    "    'RandomForest': RandomForestClassifier(random_state=1),\n",
    "    'XGBoost': XGBClassifier(random_state=1, use_label_encoder=False, eval_metric='logloss'),\n",
    "    'MLP': MLPClassifier(max_iter=1000, random_state=1)\n",
    "}\n",
    "\n",
    "# Hyperparamètres à tester pour GridSearchCV\n",
    "param_grids = {\n",
    "    'CART': {'classifier__max_depth': [3, 5, 10]},\n",
    "    'ID3': {'classifier__max_depth': [3, 5, 10]},\n",
    "    'DecisionStump': {'classifier__max_depth': [1, 2]},\n",
    "    'KNN': {'classifier__n_neighbors': [3, 5, 7]},\n",
    "    'Bagging': {'classifier__n_estimators': [50, 100, 200]},\n",
    "    'AdaBoost': {'classifier__n_estimators': [50, 100, 200]},\n",
    "    'RandomForest': {'classifier__n_estimators': [100, 200, 300]},\n",
    "    'XGBoost': {'classifier__n_estimators': [100, 200, 300]},\n",
    "    'MLP': {\n",
    "        'classifier__hidden_layer_sizes': [(20,10), (10, 20)],  # Test de différentes architectures de couches\n",
    "        'classifier__activation': ['relu', 'tanh'],  # Fonction d'activation\n",
    "        'classifier__solver': ['adam', 'sgd'],  # Algorithmes d'optimisation\n",
    "        'classifier__alpha': [0.0001, 0.001, 0.01],  # Regularisation\n",
    "        'classifier__learning_rate': ['constant', 'adaptive']  # Taux d'apprentissage\n",
    "    }\n",
    "}\n",
    "\n",
    "# Pipeline pour normalisation et classification\n",
    "pipelines = {\n",
    "    name: Pipeline([\n",
    "        ('scaling', MinMaxScaler()),\n",
    "        ('classifier', clf)\n",
    "    ])\n",
    "    for name, clf in clfs.items()\n",
    "}\n",
    "\n",
    "# Fonction pour appliquer la sélection des variables et ensuite GridSearchCV\n",
    "def run_classifiers(pipelines, param_grids):\n",
    "    results = []\n",
    "    kf = KFold(n_splits=10, shuffle=True, random_state=0)\n",
    "    scorer = make_scorer(custom_score, greater_is_better=True)\n",
    "\n",
    "    for name, pipeline in pipelines.items():\n",
    "        print(f\"Training {name}...\")\n",
    "        start_time = time.time()\n",
    "\n",
    "        # GridSearchCV pour hyperparamètre tuning sur les variables sélectionnées\n",
    "        grid_search = GridSearchCV(pipeline, param_grids[name], cv=kf, scoring=scorer, n_jobs=-1)\n",
    "        grid_search.fit(X_train_selected, y_train)\n",
    "\n",
    "        elapsed_time = time.time() - start_time\n",
    "\n",
    "        # Custom score details for each model\n",
    "        print(f\"Custom Score for {name}: {grid_search.best_score_:.3f}\")\n",
    "\n",
    "        results.append({\n",
    "            \"Model\": name,\n",
    "            \"Best Params\": grid_search.best_params_,\n",
    "            \"Mean Custom Score\": grid_search.best_score_,\n",
    "            \"Std Custom Score\": np.std(cross_val_score(grid_search.best_estimator_, X_train_selected, y_train, cv=kf, scoring=scorer)),\n",
    "            \"Execution Time (s)\": elapsed_time\n",
    "        })\n",
    "        print(f\"Best parameters chosen for {name}: {grid_search.best_params_}\")\n",
    "\n",
    "    return pd.DataFrame(results)\n",
    "\n",
    "# Lancer la comparaison\n",
    "results = run_classifiers(pipelines, param_grids)\n",
    "print(results)\n",
    "\n",
    "# Recherche du meilleur modèle\n",
    "best_model_name = results.iloc[results['Mean Custom Score'].idxmax()]['Model']\n",
    "best_pipeline = pipelines[best_model_name]\n",
    "print(f\"\\nBest model: {best_model_name}\")\n",
    "\n",
    "# Réentraînement du meilleur modèle et sauvegarde\n",
    "best_pipeline.fit(X_train_selected, y_train)\n",
    "y_pred = best_pipeline.predict(X_test_selected)\n",
    "\n",
    "# Afficher le score personnalisé sur l'ensemble de test\n",
    "best_score = custom_score(y_test, y_pred)\n",
    "print(f\"Custom Score on test set: {best_score:.3f}\")\n",
    "\n",
    "# Sauvegarde du modèle\n",
    "with open('best_pipeline.pkl', 'wb') as f:\n",
    "  pickle.dump(best_pipeline, f)\n",
    "print(f\"Best model saved as 'best_pipeline.pkl'\")\n",
    "\n"
   ]
  },
  {
   "cell_type": "markdown",
   "metadata": {
    "id": "4PNImqORZzwz"
   },
   "source": [
    "# Partie 2"
   ]
  },
  {
   "cell_type": "markdown",
   "metadata": {
    "id": "dEatDLJha7r5"
   },
   "source": [
    "## 1. Dans un premier temps nous allons considérer que les caractéristiques continues"
   ]
  },
  {
   "cell_type": "code",
   "execution_count": 101,
   "metadata": {
    "colab": {
     "base_uri": "https://localhost:8080/",
     "height": 1000
    },
    "id": "WypSG0ImlfOW",
    "outputId": "cb04f184-5642-4613-8d89-70836cb899ae"
   },
   "outputs": [
    {
     "name": "stdout",
     "output_type": "stream",
     "text": [
      "Dimensions des données : (688, 16)\n",
      "  0      1      2  3  4  5  6     7  8  9   10 11 12   13   14 15\n",
      "0  b  30.83  0.000  u  g  w  v  1.25  t  t   1  f  g  202    0  +\n",
      "1  a  58.67  4.460  u  g  q  h  3.04  t  t   6  f  g   43  560  +\n",
      "2  a  24.50  0.500  u  g  q  h  1.50  t  f   0  f  g  280  824  +\n",
      "3  b  27.83  1.540  u  g  w  v  3.75  t  t   5  t  g  100    3  +\n",
      "4  b  20.17  5.625  u  g  w  v  1.71  t  f   0  f  s  120    0  +\n",
      "Exemples de y :\n",
      "['+' '-']\n",
      "Aperçu des données numériques avec NaN :\n",
      "      1      2     7    10     13     14\n",
      "0  30.83  0.000  1.25  1.0  202.0    0.0\n",
      "1  58.67  4.460  3.04  6.0   43.0  560.0\n",
      "2  24.50  0.500  1.50  0.0  280.0  824.0\n",
      "3  27.83  1.540  3.75  5.0  100.0    3.0\n",
      "4  20.17  5.625  1.71  0.0  120.0    0.0\n",
      "Forme des données avant suppression : (688, 6)\n",
      "Forme des données après suppression : (666, 6)\n",
      "Aperçu des données sans NaN :\n",
      "      1      2     7    10     13     14\n",
      "0  30.83  0.000  1.25  1.0  202.0    0.0\n",
      "1  58.67  4.460  3.04  6.0   43.0  560.0\n",
      "2  24.50  0.500  1.50  0.0  280.0  824.0\n",
      "3  27.83  1.540  3.75  5.0  100.0    3.0\n",
      "4  20.17  5.625  1.71  0.0  120.0    0.0\n",
      "Nombre d'exemples positifs : 299\n",
      "Nombre d'exemples négatifs : 367\n"
     ]
    },
    {
     "data": {
      "image/png": "[encoded data removed]",
      "text/plain": [
       "<Figure size 800x600 with 1 Axes>"
      ]
     },
     "metadata": {},
     "output_type": "display_data"
    },
    {
     "name": "stdout",
     "output_type": "stream",
     "text": [
      "Exemples de la cible binarisée :\n",
      "[1 1 1 1 1 1 1 1 1 1]\n",
      "Nombre d'exemples positifs (1) : 299\n",
      "Nombre d'exemples négatifs (0) : 367\n",
      "Résultats avec StandardScaler :\n",
      "Training Logistic Regression...\n",
      "AUC for Logistic Regression: 0.828\n",
      "Training SVM...\n",
      "AUC for SVM: 0.839\n",
      "Training Random Forest...\n",
      "AUC for Random Forest: 0.848\n",
      "                 Model  Mean AUC  Execution Time (s)\n",
      "0  Logistic Regression  0.827673            0.034792\n",
      "1                  SVM  0.839306            0.259541\n",
      "2        Random Forest  0.848286            0.495193\n",
      "\n",
      "Résultats avec MinMaxScaler :\n",
      "Training Logistic Regression...\n",
      "AUC for Logistic Regression: 0.785\n",
      "Training SVM...\n",
      "AUC for SVM: 0.826\n",
      "Training Random Forest...\n",
      "AUC for Random Forest: 0.851\n",
      "                 Model  Mean AUC  Execution Time (s)\n",
      "0  Logistic Regression  0.785051            0.005318\n",
      "1                  SVM  0.826126            0.170436\n",
      "2        Random Forest  0.851047            0.734832\n"
     ]
    }
   ],
   "source": [
    "import numpy as np\n",
    "np.set_printoptions(threshold=10000, suppress=True)\n",
    "import pandas as pd\n",
    "import warnings\n",
    "import matplotlib.pyplot as plt\n",
    "warnings.filterwarnings('ignore')\n",
    "from sklearn.metrics import roc_auc_score, make_scorer\n",
    "from sklearn.model_selection import KFold, cross_val_score\n",
    "import time\n",
    "from sklearn.preprocessing import StandardScaler, MinMaxScaler\n",
    "from sklearn.pipeline import Pipeline\n",
    "from sklearn.linear_model import LogisticRegression\n",
    "from sklearn.svm import SVC\n",
    "from sklearn.ensemble import RandomForestClassifier\n",
    "\n",
    "file_path = \"drive/MyDrive/credit.data\"\n",
    "data = pd.read_csv(file_path, sep=\"\\t\", header=None)\n",
    "data_cleaned = data.dropna()\n",
    "\n",
    "# Affichage d'un aperçu des données nettoyées\n",
    "print(f\"Dimensions des données : {data_cleaned.shape}\")\n",
    "print(data_cleaned.head())\n",
    "\n",
    "# Séparation des caractéristiques et de la cible\n",
    "X = data_cleaned.iloc[:, :-1]  # Toutes les colonnes sauf la dernière\n",
    "y = data_cleaned.iloc[:, -1]   # La dernière colonne (classe cible)\n",
    "\n",
    "# Vérification\n",
    "print(f\"Exemples de y :\\n{y.unique()}\")\n",
    "\n",
    "# Transformation du DataFrame en tableau NumPy\n",
    "data_array = data_cleaned.values\n",
    "\n",
    "# Séparation des variables caractéristiques (X) et de la cible (y)\n",
    "X = data_array[:, :-1]  # Toutes les colonnes sauf la dernière\n",
    "y = data_array[:, -1]   # Dernière colonne\n",
    "\n",
    "# Remplacement des valeurs manquantes (?) par NaN\n",
    "data_cleaned.replace('?', np.nan, inplace=True)\n",
    "\n",
    "# Indices des colonnes catégorielles\n",
    "col_cat = [0, 3, 4, 5, 6, 8, 9, 11, 12]\n",
    "\n",
    " # Indices des colonnes numériques\n",
    "numeric_columns = [i for i in range(X.shape[1]) if i not in col_cat]\n",
    "numeric_data = data_cleaned.iloc[:, numeric_columns]\n",
    "\n",
    "# Conversion en type float\n",
    "numeric_data = numeric_data.astype(float)\n",
    "\n",
    "# Vérification\n",
    "print(\"Aperçu des données numériques avec NaN :\")\n",
    "print(numeric_data.head())\n",
    "\n",
    "# Suppression des lignes contenant des NaN\n",
    "numeric_data_cleaned = numeric_data.dropna()\n",
    "\n",
    "# Vérification après suppression\n",
    "print(f\"Forme des données avant suppression : {numeric_data.shape}\")\n",
    "print(f\"Forme des données après suppression : {numeric_data_cleaned.shape}\")\n",
    "\n",
    "# Aperçu des données nettoyées\n",
    "print(\"Aperçu des données sans NaN :\")\n",
    "print(numeric_data_cleaned.head())\n",
    "\n",
    "# Suppression des lignes contenant des NaN dans X\n",
    "valid_indices = numeric_data_cleaned.index  # Indices des lignes valides après nettoyage\n",
    "y_cleaned = y[valid_indices]  # Garder les cibles correspondant à ces indices\n",
    "\n",
    "# Comptage des exemples positifs et négatifs\n",
    "positive_count = (y_cleaned == '+').sum()\n",
    "negative_count = (y_cleaned == '-').sum()\n",
    "\n",
    "print(f\"Nombre d'exemples positifs : {positive_count}\")\n",
    "print(f\"Nombre d'exemples négatifs : {negative_count}\")\n",
    "\n",
    "# Affichage de l'histogramme\n",
    "plt.figure(figsize=(8, 6))\n",
    "plt.bar(['Positifs', 'Négatifs'], [positive_count, negative_count], color=['green', 'red'])\n",
    "plt.title(\"Distribution des exemples positifs et négatifs\")\n",
    "plt.xlabel(\"Classes\")\n",
    "plt.ylabel(\"Nombre d'exemples\")\n",
    "plt.show()\n",
    "\n",
    "# Binarisation de la variable cible\n",
    "y_binarized = (y_cleaned == '+').astype(int)\n",
    "\n",
    "# Vérification de la transformation\n",
    "print(\"Exemples de la cible binarisée :\")\n",
    "print(y_binarized[:10])\n",
    "\n",
    "# Comptage des exemples binarisés\n",
    "positive_count = (y_binarized == 1).sum()\n",
    "negative_count = (y_binarized == 0).sum()\n",
    "print(f\"Nombre d'exemples positifs (1) : {positive_count}\")\n",
    "print(f\"Nombre d'exemples négatifs (0) : {negative_count}\")\n",
    "\n",
    "def run_classifiers(pipelines, X_train_selected, y_train):\n",
    "    results = []\n",
    "    kf = KFold(n_splits=10, shuffle=True, random_state=0)\n",
    "\n",
    "    # Utilisation de l'AUC comme score personnalisé\n",
    "    auc_scorer = make_scorer(roc_auc_score, needs_proba=True, greater_is_better=True)\n",
    "\n",
    "    for name, pipeline in pipelines.items():\n",
    "        print(f\"Training {name}...\")\n",
    "        start_time = time.time()\n",
    "\n",
    "        # Entraînement du modèle sans recherche d'hyperparamètres\n",
    "        pipeline.fit(X_train_selected, y_train)\n",
    "        elapsed_time = time.time() - start_time\n",
    "        # AUC details for each model\n",
    "        mean_auc_score = cross_val_score(pipeline, X_train_selected, y_train, cv=kf, scoring=auc_scorer).mean()\n",
    "        print(f\"AUC for {name}: {mean_auc_score:.3f}\")\n",
    "\n",
    "        results.append({\n",
    "            \"Model\": name,\n",
    "            \"Mean AUC\": mean_auc_score,\n",
    "            \"Execution Time (s)\": elapsed_time\n",
    "        })\n",
    "\n",
    "    return pd.DataFrame(results)\n",
    "\n",
    "pipelines = {\n",
    "    'Logistic Regression': Pipeline([('clf', LogisticRegression(max_iter=1000))]),\n",
    "    'SVM': Pipeline([('clf', SVC(probability=True))]),\n",
    "    'Random Forest': Pipeline([('clf', RandomForestClassifier())])\n",
    "}\n",
    "\n",
    "X_train_selected = numeric_data_cleaned.values\n",
    "y_train = y_binarized\n",
    "\n",
    "# Normalisation avec StandardScaler\n",
    "scaler = StandardScaler()\n",
    "X_train_scaled = scaler.fit_transform(X_train_selected)\n",
    "\n",
    "# Normalisation avec MinMaxScaler (optionnel)\n",
    "min_max_scaler = MinMaxScaler()\n",
    "X_train_minmax_scaled = min_max_scaler.fit_transform(X_train_selected)\n",
    "\n",
    "# Exécuter la fonction run_classifiers sur les données normalisées\n",
    "print(\"Résultats avec StandardScaler :\")\n",
    "results_standard = run_classifiers(pipelines, X_train_scaled, y_train)\n",
    "print(results_standard)\n",
    "\n",
    "print(\"\\nRésultats avec MinMaxScaler :\")\n",
    "results_minmax = run_classifiers(pipelines, X_train_minmax_scaled, y_train)\n",
    "print(results_minmax)"
   ]
  },
  {
   "cell_type": "markdown",
   "metadata": {
    "id": "tRE3wALDbT_D"
   },
   "source": [
    "## 2. Nous allons maintenant considérer la totalité de la base originale"
   ]
  },
  {
   "cell_type": "code",
   "execution_count": null,
   "metadata": {
    "id": "PS0__vRAZGWc"
   },
   "outputs": [],
   "source": [
    "from sklearn.preprocessing import StandardScaler, MinMaxScaler, OneHotEncoder\n",
    "from sklearn.impute import SimpleImputer\n",
    "from sklearn.model_selection import train_test_split\n",
    "from sklearn.linear_model import LogisticRegression\n",
    "from sklearn.tree import DecisionTreeClassifier\n",
    "import matplotlib.pyplot as plt\n",
    "from sklearn.ensemble import RandomForestClassifier\n",
    "from sklearn.impute import SimpleImputer\n",
    "from sklearn.svm import SVC\n",
    "from sklearn.metrics import roc_auc_score, roc_curve\n",
    "\n",
    "file_path = 'drive/MyDrive/credit.data'\n",
    "data_file = pd.read_csv(file_path, delimiter='\\t', header=None)\n",
    "data = data_file.values\n",
    "X = data[:, :-1]\n",
    "y = data[:, -1]\n",
    "\n",
    "print(X)\n",
    "print(y)\n",
    "\n",
    "print(\"Taille du jeu de données:\", X.shape)\n",
    "\n",
    "col_cat = [0, 3, 4, 5, 6, 8, 9, 11, 12]  # Indices des colonnes catégorielles\n",
    "col_num = [i for i in range(X.shape[1]) if i not in col_cat]  # Indices des colonnes numériques\n"
   ]
  },
  {
   "cell_type": "code",
   "execution_count": null,
   "metadata": {
    "id": "Vup2Zajxb8_f"
   },
   "outputs": [],
   "source": [
    "# Pour les variables catégorielles\n",
    "X_cat = np.copy(X[:, col_cat])\n",
    "for col_id in range(len(col_cat)):\n",
    "  unique_val, val_idx = np.unique(X_cat[:, col_id], return_inverse=True)\n",
    "  X_cat[:, col_id] = val_idx\n",
    "imp_cat = SimpleImputer(missing_values=0, strategy='most_frequent')\n",
    "X_cat[:, range(5)] = imp_cat.fit_transform(X_cat[:, range(5)])\n",
    "# Pour les variables numériques\n",
    "X_num = np.copy(X[:, col_num])\n",
    "X_num[X_num == '?'] = np.nan\n",
    "X_num = X_num.astype(float)\n",
    "imp_num = SimpleImputer(missing_values=np.nan, strategy='mean')\n",
    "X_num = imp_num.fit_transform(X_num)"
   ]
  },
  {
   "cell_type": "code",
   "execution_count": null,
   "metadata": {
    "colab": {
     "base_uri": "https://localhost:8080/"
    },
    "id": "g-1tfe-kb_G6",
    "outputId": "708e6b0d-3018-4d73-8cdd-f9e3391212da"
   },
   "outputs": [
    {
     "name": "stdout",
     "output_type": "stream",
     "text": [
      "[1 1 1 1 1 1 1 1 1 1 1 1 1 1 1 1 1 1 1 1 1 1 1 1 1 1 1 1 1 1 1 1 1 1 1 1 1\n",
      " 1 1 1 1 1 1 1 1 1 1 1 1 1 1 1 1 1 1 1 1 1 1 1 1 1 1 1 1 1 1 1 1 1 0 0 0 0\n",
      " 0 0 0 0 0 0 0 0 0 0 0 0 0 0 0 0 0 0 0 0 0 0 0 0 0 0 0 0 0 0 0 0 0 0 0 0 0\n",
      " 0 0 0 0 0 0 1 1 1 1 1 1 1 1 1 1 1 1 1 1 1 1 1 1 1 1 1 1 1 1 1 1 1 1 1 1 1\n",
      " 1 1 1 1 1 1 1 1 1 1 1 1 1 1 1 1 1 1 1 1 1 1 1 1 1 1 1 1 1 1 1 1 1 1 1 1 1\n",
      " 1 1 1 1 1 1 1 1 1 1 1 1 1 1 1 1 1 1 1 1 1 1 1 1 1 1 1 1 1 1 1 1 1 1 1 1 1\n",
      " 1 1 1 1 1 1 1 1 1 1 1 1 1 1 1 1 1 1 1 1 1 1 1 1 1 1 1 1 1 1 0 0 0 0 0 0 0\n",
      " 0 0 0 0 0 0 0 1 1 1 0 0 0 0 0 0 0 0 0 0 0 0 0 0 0 0 0 0 0 0 0 0 0 0 0 0 0\n",
      " 0 0 0 0 0 0 0 0 0 0 0 0 0 0 0 0 0 0 0 1 1 1 1 1 1 1 0 0 0 0 0 0 0 0 0 0 0\n",
      " 0 0 0 0 0 0 0 0 0 0 0 0 0 0 0 0 0 0 0 0 0 0 0 0 0 0 0 0 0 0 0 0 0 0 0 0 0\n",
      " 0 0 0 0 0 0 0 0 0 0 0 0 0 0 0 0 0 0 0 0 0 0 0 0 0 0 0 0 0 0 0 0 0 0 0 0 0\n",
      " 0 0 0 0 0 0 0 0 0 0 0 0 0 0 0 0 0 0 0 0 0 0 0 0 0 0 0 0 0 0 0 0 0 0 0 0 0\n",
      " 0 0 0 0 0 0 0 0 0 0 0 0 0 0 0 0 0 0 0 0 0 0 0 0 0 0 0 0 0 0 0 0 0 0 0 0 0\n",
      " 0 0 0 0 0 0 0 1 1 1 1 1 1 1 1 1 1 1 1 1 1 1 1 1 1 1 1 1 1 1 1 1 1 1 1 1 1\n",
      " 1 1 1 0 0 0 0 0 0 0 0 0 0 0 0 0 0 0 0 0 0 0 0 0 0 0 0 1 1 1 1 1 1 1 1 1 1\n",
      " 1 1 1 1 1 1 1 1 1 1 1 1 1 1 1 1 1 1 1 1 1 1 1 1 1 1 1 1 1 1 1 1 1 1 1 1 1\n",
      " 1 1 1 1 1 1 1 0 0 0 0 0 1 0 0 0 0 0 0 0 0 0 0 0 0 0 0 1 1 0 0 0 0 0 0 0 0\n",
      " 0 0 0 0 0 0 0 0 0 0 0 0 0 0 0 0 0 0 0 0 0 0 0 0 0 0 0 0 0 0 0 0 0 0 0 0 0\n",
      " 0 0 0 0 0 0 0 0 0 0 0 0 0 0 0 0 0 0 0 0 0 0]\n"
     ]
    }
   ],
   "source": [
    "# Binariser les etiquettes cibles\n",
    "y = np.array([1 if label == '+' else 0 for label in y])\n",
    "print(y)"
   ]
  },
  {
   "cell_type": "code",
   "execution_count": null,
   "metadata": {
    "id": "ApcLCxwBcBCh"
   },
   "outputs": [],
   "source": [
    "# Conversion données cat en donnees num\n",
    "X_cat_bin = OneHotEncoder().fit_transform(X_cat).toarray()"
   ]
  },
  {
   "cell_type": "code",
   "execution_count": null,
   "metadata": {
    "colab": {
     "base_uri": "https://localhost:8080/"
    },
    "id": "JJUN1SV4cBme",
    "outputId": "96160c3c-22e8-40bf-de44-a9b89402a9f4"
   },
   "outputs": [
    {
     "name": "stdout",
     "output_type": "stream",
     "text": [
      "(688, 15)\n"
     ]
    }
   ],
   "source": [
    "# Merge des variables num et cat\n",
    "X_merged = np.hstack((X_cat, X_num))\n",
    "print (X_merged.shape)"
   ]
  },
  {
   "cell_type": "code",
   "execution_count": null,
   "metadata": {
    "id": "krtq93qqcE_g"
   },
   "outputs": [],
   "source": [
    "# On scale les données\n",
    "minmax_scaler = MinMaxScaler()\n",
    "X = minmax_scaler.fit_transform(X_merged)"
   ]
  },
  {
   "cell_type": "code",
   "execution_count": null,
   "metadata": {
    "id": "zbXpI9cmgA5J"
   },
   "outputs": [],
   "source": [
    "X_train, X_test, y_train, y_test = train_test_split(X, y, test_size=0.5, random_state=1)\n"
   ]
  },
  {
   "cell_type": "code",
   "execution_count": null,
   "metadata": {
    "id": "fKs84d_5cL2v"
   },
   "outputs": [],
   "source": [
    "# Définition des classifieurs à utiliser\n",
    "clfs = {\n",
    "    'SVM': SVC(kernel='linear', random_state=1, probability=True),  # Classifieur SVM avec un noyau linéaire\n",
    "    'RandomForest': RandomForestClassifier(n_estimators=100, random_state=1)  # Classifieur Random Forest avec 100 arbres\n",
    "}\n",
    "\n",
    "# Pipeline pour normalisation (MinMaxScaler) et classification\n",
    "pipelines = {\n",
    "    name: Pipeline([\n",
    "        ('scaling', MinMaxScaler()),  # Normalisation des données avec MinMaxScaler\n",
    "        ('classifier', clf)           # Application du classifieur\n",
    "    ])\n",
    "    for name, clf in clfs.items()\n",
    "}\n",
    "\n",
    "# Fonction pour entraîner et évaluer les classifieurs\n",
    "def run_classifiers(pipelines, X_train, y_train, X_test, y_test):\n",
    "    results = []  # Liste pour stocker les résultats\n",
    "    kf = KFold(n_splits=10, shuffle=True, random_state=0)  # Validation croisée avec 10 sous-échantillons (folds)\n",
    "\n",
    "    # AUC comme critère d'évaluation\n",
    "    auc_scorer = make_scorer(roc_auc_score, multi_class='ovr', needs_proba=True)\n",
    "\n",
    "    plt.figure(figsize=(10, 6))\n",
    "    for name, pipeline in pipelines.items():\n",
    "        print(f\"Entraînement du modèle {name}...\")\n",
    "        start_time = time.time()\n",
    "        pipeline.fit(X_train, y_train)\n",
    "        elapsed_time = time.time() - start_time\n",
    "        y_pred_proba = pipeline.predict_proba(X_test)[:, 1]\n",
    "        auc_score = roc_auc_score(y_test, y_pred_proba)\n",
    "\n",
    "        print(f\"{name} - AUC : {auc_score:.3f}\")\n",
    "\n",
    "        # Calcul de la courbe ROC pour visualiser les performances du modèle\n",
    "        fpr, tpr, _ = roc_curve(y_test, y_pred_proba)  # Taux de faux positifs et vrais positifs\n",
    "        plt.plot(fpr, tpr, label=f'{name} (AUC = {auc_score:.3f})')  # Ajout de la courbe au graphique\n",
    "\n",
    "        # Enregistrement des résultats pour chaque modèle dans la liste `results`\n",
    "        results.append({\n",
    "            \"Modèle\": name,\n",
    "            \"Score AUC\": auc_score,\n",
    "            \"Temps d'exécution (s)\": elapsed_time\n",
    "        })\n",
    "\n",
    "    # Conversion des résultats en DataFrame pour un affichage plus clair\n",
    "    results_df = pd.DataFrame(results)\n",
    "\n",
    "    # Affichage de la courbe ROC\n",
    "    plt.plot([0, 1], [0, 1], 'k--')  # Ligne diagonale (modèle aléatoire)\n",
    "    plt.xlabel('Taux de Faux Positifs')\n",
    "    plt.ylabel('Taux de Vrais Positifs')\n",
    "    plt.title('Courbe ROC')\n",
    "    plt.legend(loc='lower right')  # Affichage de la légende dans le coin inférieur droit\n",
    "    plt.show()\n",
    "\n",
    "    return results_df"
   ]
  },
  {
   "cell_type": "code",
   "execution_count": null,
   "metadata": {
    "colab": {
     "base_uri": "https://localhost:8080/",
     "height": 1000
    },
    "id": "YN9I4Dy3fvip",
    "outputId": "7227ffc7-3316-4a2f-fafe-28f70a00a9ce"
   },
   "outputs": [
    {
     "name": "stdout",
     "output_type": "stream",
     "text": [
      "Training CART...\n",
      "CART - AUC: 0.888\n",
      "Best parameters chosen for CART: {'classifier__max_depth': 3}\n",
      "Training ID3...\n",
      "ID3 - AUC: 0.885\n",
      "Best parameters chosen for ID3: {'classifier__max_depth': 3}\n",
      "Training DecisionStump...\n",
      "DecisionStump - AUC: 0.910\n",
      "Best parameters chosen for DecisionStump: {'classifier__max_depth': 2}\n",
      "Training KNN...\n",
      "KNN - AUC: 0.904\n",
      "Best parameters chosen for KNN: {'classifier__n_neighbors': 7}\n",
      "Training Bagging...\n",
      "Bagging - AUC: 0.918\n",
      "Best parameters chosen for Bagging: {'classifier__n_estimators': 200}\n",
      "Training AdaBoost...\n",
      "AdaBoost - AUC: 0.907\n",
      "Best parameters chosen for AdaBoost: {'classifier__n_estimators': 50}\n",
      "Training RandomForest...\n",
      "RandomForest - AUC: 0.930\n",
      "Best parameters chosen for RandomForest: {'classifier__n_estimators': 300}\n",
      "Training XGBoost...\n",
      "XGBoost - AUC: 0.925\n",
      "Best parameters chosen for XGBoost: {'classifier__n_estimators': 100}\n",
      "Training MLP...\n",
      "MLP - AUC: 0.909\n",
      "Best parameters chosen for MLP: {'classifier__activation': 'tanh', 'classifier__alpha': 0.0001, 'classifier__hidden_layer_sizes': (20, 10), 'classifier__learning_rate': 'constant', 'classifier__solver': 'adam'}\n"
     ]
    },
    {
     "data": {
      "image/png": "[encoded data removed]",
      "text/plain": [
       "<Figure size 1000x600 with 1 Axes>"
      ]
     },
     "metadata": {},
     "output_type": "display_data"
    },
    {
     "data": {
      "text/plain": [
       "(           Model                                        Best Params  \\\n",
       " 0           CART                       {'classifier__max_depth': 3}   \n",
       " 1            ID3                       {'classifier__max_depth': 3}   \n",
       " 2  DecisionStump                       {'classifier__max_depth': 2}   \n",
       " 3            KNN                     {'classifier__n_neighbors': 7}   \n",
       " 4        Bagging                  {'classifier__n_estimators': 200}   \n",
       " 5       AdaBoost                   {'classifier__n_estimators': 50}   \n",
       " 6   RandomForest                  {'classifier__n_estimators': 300}   \n",
       " 7        XGBoost                  {'classifier__n_estimators': 100}   \n",
       " 8            MLP  {'classifier__activation': 'tanh', 'classifier...   \n",
       " \n",
       "    Mean AUC Score  Std AUC Score  Execution Time (s)  \n",
       " 0        0.888160       0.044847            0.309809  \n",
       " 1        0.884705       0.050382            0.384671  \n",
       " 2        0.909965       0.036814            0.244987  \n",
       " 3        0.903628       0.049056            0.343445  \n",
       " 4        0.918437       0.039116            9.324636  \n",
       " 5        0.906528       0.044808            6.711760  \n",
       " 6        0.929722       0.035004           13.005557  \n",
       " 7        0.925451       0.030458            4.077656  \n",
       " 8        0.908576       0.046417          608.167089  ,)"
      ]
     },
     "execution_count": 99,
     "metadata": {},
     "output_type": "execute_result"
    }
   ],
   "source": [
    "run_classifiers(pipelines, X_train, y_train, X_test, y_test),"
   ]
  },
  {
   "cell_type": "markdown",
   "metadata": {
    "id": "ba5JupfGisOC"
   },
   "source": [
    "La courbe ROC évalue la performance d'un modèle en traçant le taux de vrais positifs (VP) contre le taux de faux positifs (FP) pour différents seuils. L'AUC, l'aire sous la courbe, mesure cette performance, avec une valeur proche de 1 indiquant un bon modèle.\n"
   ]
  }
 ],
 "metadata": {
  "colab": {
   "collapsed_sections": [
    "UWWsSZvRftrj",
    "bPR2iuNQepZV",
    "v6isLDxWe4dM",
    "x62EaNnmfA8u",
    "OhhDWDX9fHCQ",
    "_CJDlyk-fLRv",
    "OvF3BDxsfcsq"
   ],
   "provenance": []
  },
  "kernelspec": {
   "display_name": "Python 3",
   "name": "python3"
  },
  "language_info": {
   "name": "python"
  }
 },
 "nbformat": 4,
 "nbformat_minor": 0
}
